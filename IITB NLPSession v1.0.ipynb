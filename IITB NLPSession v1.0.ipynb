{
 "cells": [
  {
   "cell_type": "code",
   "execution_count": null,
   "metadata": {
    "collapsed": true
   },
   "outputs": [],
   "source": [
    "##################################################################################################\n",
    "##   Notebook used for extracting text from html files. Some basic preprocessing tasks \n",
    "##   v1.0 Reading text using BeautifulSoup   \n",
    "##   Required Packages: os, BeautifulSoup\n",
    "##   The html files are not included in the repository\n",
    "##   They can be downloaded form the following link\n",
    "##   https://www.rbi.org.in/scripts/SearchResults.aspx?search=rajan&sp=speeches\n",
    "##################################################################################################"
   ]
  },
  {
   "cell_type": "code",
   "execution_count": null,
   "metadata": {
    "collapsed": true
   },
   "outputs": [],
   "source": [
    "import os \n",
    "from bs4 import BeautifulSoup as bs"
   ]
  },
  {
   "cell_type": "code",
   "execution_count": null,
   "metadata": {
    "collapsed": false,
    "scrolled": true
   },
   "outputs": [],
   "source": [
    "## Reading all the html files in the directory\n",
    "##\n",
    "\n",
    "rootDir = 'E:\\\\NLP Session\\\\RBIGovernorSpeeches\\\\'\n",
    "\n",
    "htmlFiles = [f for f in os.listdir(rootDir) if f.endswith('.html')]\n",
    "htmlFiles"
   ]
  },
  {
   "cell_type": "code",
   "execution_count": null,
   "metadata": {
    "collapsed": false
   },
   "outputs": [],
   "source": [
    "## Selecting the first html file in the set\n",
    "##\n",
    "\n",
    "fileName = rootDir + htmlFiles[0] \n",
    "print fileName"
   ]
  },
  {
   "cell_type": "code",
   "execution_count": null,
   "metadata": {
    "collapsed": false
   },
   "outputs": [],
   "source": [
    "## Opening the file and converting it to a 'soup' object\n",
    "\n",
    "soup = bs(open(fileName), 'html.parser')\n",
    "soup"
   ]
  },
  {
   "cell_type": "raw",
   "metadata": {},
   "source": [
    "########################################################################################################\n",
    "## Beautifulsoup tutorial\n",
    "## A short tutorial that provides an intro to the package \n",
    "########################################################################################################\n"
   ]
  },
  {
   "cell_type": "code",
   "execution_count": null,
   "metadata": {
    "collapsed": false
   },
   "outputs": [],
   "source": [
    "## Prints out a pretty version of the soup\n",
    "##\n",
    "print(soup.prettify())"
   ]
  },
  {
   "cell_type": "code",
   "execution_count": null,
   "metadata": {
    "collapsed": false
   },
   "outputs": [],
   "source": [
    "## Prints the title in the page\n",
    "##\n",
    "soup.title"
   ]
  },
  {
   "cell_type": "code",
   "execution_count": null,
   "metadata": {
    "collapsed": false
   },
   "outputs": [],
   "source": [
    "## Prints the title in the page, and extracts out the string\n",
    "##\n",
    "soup.title.string"
   ]
  },
  {
   "cell_type": "code",
   "execution_count": null,
   "metadata": {
    "collapsed": false
   },
   "outputs": [],
   "source": [
    "## Prints the first paragraph in the page\n",
    "##\n",
    "soup.p"
   ]
  },
  {
   "cell_type": "code",
   "execution_count": null,
   "metadata": {
    "collapsed": false
   },
   "outputs": [],
   "source": [
    "## Prints the first paragraph in the page and extracts the string \n",
    "##\n",
    "soup.p.string"
   ]
  },
  {
   "cell_type": "code",
   "execution_count": null,
   "metadata": {
    "collapsed": false
   },
   "outputs": [],
   "source": [
    "## Prints out all the links in the webpage\n",
    "##\n",
    "for link in soup.find_all('a'):\n",
    "    print(link.get('href'))"
   ]
  },
  {
   "cell_type": "code",
   "execution_count": null,
   "metadata": {
    "collapsed": false,
    "scrolled": true
   },
   "outputs": [],
   "source": [
    "## Extracts the text from the soup object\n",
    "##\n",
    "print(soup.get_text())"
   ]
  },
  {
   "cell_type": "code",
   "execution_count": null,
   "metadata": {
    "collapsed": false
   },
   "outputs": [],
   "source": [
    "soup = bs(open(fileName), 'html.parser') # Parses text so that html tags can be extracted\n",
    "\n",
    "# Removes the styling and other information\n",
    "for script in soup([\"script\", \"style\",\"title\",'[document]', 'head', 'title']):\n",
    "    script.extract() \n",
    "\n",
    "# Extracts the text from the soup\n",
    "cleaned=str(soup.get_text(separator=' ').encode('ascii','ignore'))\n",
    "\n",
    "# Strips out the spaces\n",
    "cleanedtext = cleaned.strip()\n",
    "cleanedtext"
   ]
  },
  {
   "cell_type": "raw",
   "metadata": {},
   "source": [
    "The modified output that we have received in the above is far better than the text that we received by simply running the get_text() commnad on the raw soup object"
   ]
  }
 ],
 "metadata": {
  "anaconda-cloud": {},
  "kernelspec": {
   "display_name": "Python [conda root]",
   "language": "python",
   "name": "conda-root-py"
  },
  "language_info": {
   "codemirror_mode": {
    "name": "ipython",
    "version": 2
   },
   "file_extension": ".py",
   "mimetype": "text/x-python",
   "name": "python",
   "nbconvert_exporter": "python",
   "pygments_lexer": "ipython2",
   "version": "2.7.12"
  }
 },
 "nbformat": 4,
 "nbformat_minor": 1
}
